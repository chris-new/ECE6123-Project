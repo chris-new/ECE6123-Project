{
 "cells": [
  {
   "cell_type": "code",
   "execution_count": 2,
   "metadata": {},
   "outputs": [
    {
     "name": "stdout",
     "output_type": "stream",
     "text": [
      "Jupyter environment detected. Enabling Open3D WebVisualizer.\n",
      "[Open3D INFO] WebRTC GUI backend enabled.\n",
      "[Open3D INFO] WebRTCWindowSystem: HTTP handshake server disabled.\n"
     ]
    }
   ],
   "source": [
    "import open3d as o3d\n",
    "import numpy as np\n",
    "import os\n",
    "import matplotlib.pyplot as plt\n",
    "from functools import reduce"
   ]
  },
  {
   "cell_type": "code",
   "execution_count": 3,
   "metadata": {},
   "outputs": [],
   "source": [
    "def recenter_model(model):\n",
    "    mean_cov = model.compute_mean_and_covariance()\n",
    "    mean = mean_cov[0]\n",
    "    covariance_matrix = mean_cov[1]\n",
    "\n",
    "    eigen_values, eigen_vectors = np.linalg.eigh(covariance_matrix)\n",
    "\n",
    "    # 特征向量与特征值关联，并按特征值排序（特征值最大的对应主要的方向）\n",
    "    eig_index = np.argsort(eigen_values)[::-1]\n",
    "    principal_axes = eigen_vectors[:, eig_index]\n",
    "    # principal_axes = principal_axes.transpose()\n",
    "\n",
    "    # the first axis of pca should be y axis for a human\n",
    "    principal_axes[:,[0,1]] = principal_axes[:,[1,0]]\n",
    "\n",
    "    if principal_axes[:, 0] [0]< 0:\n",
    "        principal_axes[:,0]*= -1\n",
    "    if principal_axes[:,1][1] < 0:\n",
    "        principal_axes[:,1]*= -1\n",
    "    if principal_axes[:,2][2] < 0:\n",
    "        principal_axes[:,2]*= -1\n",
    "    # print(principal_axes)\n",
    "\n",
    "    # new_z_axis = np.array([principal_axes[:,2][0], 0, principal_axes[:,2][1]])\n",
    "\n",
    "    # z_axis = np.array([0, 0, 1])\n",
    "\n",
    "    # rotation_axis = np.cross(z_axis, new_z_axis)\n",
    "    # # print(rotation_axis)\n",
    "\n",
    "    # # 计算旋转角度（dot product和arccos）\n",
    "    # cos_theta = np.dot(z_axis, new_z_axis) / (np.linalg.norm(z_axis) * np.linalg.norm(new_z_axis))\n",
    "    # angle = np.arccos(cos_theta)\n",
    "\n",
    "    # # 计算旋转矩阵（Rodrigues' rotation formula）\n",
    "    # K = np.array([\n",
    "    #     [0, -rotation_axis[2], rotation_axis[1]],\n",
    "    #     [rotation_axis[2], 0, -rotation_axis[0]],\n",
    "    #     [-rotation_axis[1], rotation_axis[0], 0]\n",
    "    # ])\n",
    "    # identity_matrix = np.eye(3)\n",
    "    # rotation_matrix = identity_matrix + np.sin(-angle) * K + (1 - np.cos(-angle)) * (K @ K)\n",
    "\n",
    "    # model.rotate(rotation_matrix, center=mean)\n",
    "    model.rotate(principal_axes.transpose(), center=mean)\n",
    "\n",
    "def read_point_cloud(filename:str):\n",
    "    pcd = o3d.io.read_point_cloud(filename)\n",
    "    return pcd\n",
    "\n",
    "\n",
    "def render(geometries):\n",
    "    o3d.visualization.draw_geometries(geometries)\n",
    "    \n",
    "def flip(matrix):\n",
    "    result = np.copy(matrix)\n",
    "    result[1:3,:] = -1 * result[1:3,:]\n",
    "    return result"
   ]
  },
  {
   "cell_type": "code",
   "execution_count": 4,
   "metadata": {},
   "outputs": [],
   "source": [
    "# files = list_all_files()\n",
    "models = [ '/home/demoy/3dProjection/THuman2.0 Samples-20231208T170459Z-001/THuman2.0 Samples/0500/pcd_0.ply',\n",
    "          '/home/demoy/3dProjection/THuman2.0 Samples-20231208T170459Z-001/THuman2.0 Samples/0501/pcd_0.ply']\n",
    "intrinsic =  o3d.camera.PinholeCameraIntrinsic(\n",
    "        o3d.camera.PinholeCameraIntrinsicParameters.Kinect2ColorCameraDefault)\n",
    "class AnyObject:\n",
    "    pass\n",
    "args = AnyObject() \n",
    "args.mask_input_path = '/home/demoy/3dProjection/cdcl_output'\n",
    "args.depth_input_path = '/home/demoy/3dProjection/depths'\n",
    "args.extrinsic_input_path = '/home/demoy/3dProjection/extrinsics'\n",
    "args.confidence_input_path = '/home/demoy/3dProjection/segs'\n",
    "args.num_views = 10\n",
    "args.k = 100\n",
    "args.radius = 0.05\n",
    "args.smooth = 100\n",
    "args.output_path = '/home/demoy/3dProjection/confidence_search'\n",
    "\n",
    "#part_ids = [ 0,  2,  4,  5,  6,  8, 13, 14, 16, 17, 18, 19, 20, 21, 24]\n",
    "# the order is: (left right flipped)\n",
    "# background, head, torso, left upper arm ,right upper arm, left forearm, right forearm,\n",
    "#  left hand, right hand, left thigh, right thigh, left shank, right shank, left foot, right foot\n",
    "part_ids = [0, 13, 2, 5, 8, 19, 20, 4, 24, 18, 6, 21, 16, 14, 17]\n",
    "\n",
    "r_chan = np.array([0, 127, 255, 255, 255, 127, 255, 127, 0, 0, 0, 0, 127, 255, 255])\n",
    "g_chan = np.array( [0, 127, 0, 127, 255, 0, 0, 127, 255, 0, 255, 127, 255, 127, 255])\n",
    "b_chan = np.array( [0, 127, 0, 0, 0, 255, 255, 0, 255, 255, 0, 255, 127, 127, 127])"
   ]
  },
  {
   "cell_type": "code",
   "execution_count": 5,
   "metadata": {},
   "outputs": [
    {
     "name": "stdout",
     "output_type": "stream",
     "text": [
      "1080\n",
      "1920\n"
     ]
    }
   ],
   "source": [
    "# intrinsic.width/height \n",
    "intrinsic =  o3d.camera.PinholeCameraIntrinsic(\n",
    "        o3d.camera.PinholeCameraIntrinsicParameters.Kinect2ColorCameraDefault)\n",
    "print(intrinsic.height)\n",
    "print(intrinsic.width)"
   ]
  },
  {
   "cell_type": "code",
   "execution_count": 6,
   "metadata": {},
   "outputs": [
    {
     "name": "stdout",
     "output_type": "stream",
     "text": [
      "average distance between points in the point cloud =  0.0015608837553829575\n",
      "std::vector<Eigen::Vector3d> with 799951 elements.\n",
      "Use numpy.asarray() to access data.\n"
     ]
    }
   ],
   "source": [
    "# load point cloud and reset all points' colors to black\n",
    "original_pcd = o3d.io.read_point_cloud(\"/home/demoy/3dProjection/THuman2.0 Samples-20231208T170459Z-001/THuman2.0 Samples/0500/pcd_0.ply\")\n",
    "points = np.asarray(original_pcd.points)\n",
    "points -= points.mean(0)\n",
    "original_pcd.transform(np.array([[1,0,0,0], \n",
    "                    [0,1,0,0],\n",
    "                    [0,0,1,0],\n",
    "                    [0,0,0,1]]))\n",
    "recenter_model(original_pcd)\n",
    "original_pcd.normals = o3d.utility.Vector3dVector([])\n",
    "\n",
    "# pcd_color = (np.tile([0,0,0],(np.asarray(original_pcd.colors).shape[0],1)))\n",
    "# original_pcd.colors = o3d.utility.Vector3dVector(pcd_color)\n",
    "render([original_pcd])\n",
    "\n",
    "# calculate average distance between points in the point cloud\n",
    "t = original_pcd.compute_nearest_neighbor_distance()\n",
    "print('average distance between points in the point cloud = ',np.array(t).mean())\n",
    "print(original_pcd.points)"
   ]
  },
  {
   "cell_type": "code",
   "execution_count": 16,
   "metadata": {},
   "outputs": [
    {
     "name": "stdout",
     "output_type": "stream",
     "text": [
      "std::vector<Eigen::Vector3d> with 738535 elements.\n",
      "Use numpy.asarray() to access data.\n"
     ]
    }
   ],
   "source": [
    "# mark all visiable points\n",
    "\n",
    "# reproject from depth, find the nearest point and mark it as visiable\n",
    "id = r\"/home/demoy/3dProjection/THuman2.0 Samples-20231208T170459Z-001/THuman2.0 Samples/0500/pcd_0.ply\".split(os.sep)[-2]\n",
    "\n",
    "valid_pcds = []\n",
    "for i in range(10):\n",
    "    view_path = os.path.join(args.mask_input_path, f\"{id}_image{i+1}_cdcl_segmask.npy\")\n",
    "    \n",
    "    depth_path = os.path.join(args.depth_input_path, f\"{id}_depth{i+1}.npy\")\n",
    "    extrinsic_path = os.path.join(args.extrinsic_input_path, f\"{id}_extrinsic{i+1}.npy\")\n",
    "    \n",
    "    depth = np.load(depth_path).astype(np.float32)\n",
    "    view = np.load(view_path).astype(np.uint8)\n",
    "    extrinsic = np.load(extrinsic_path).astype(np.float32)\n",
    "    rgbd = o3d.geometry.RGBDImage.create_from_color_and_depth(\n",
    "    o3d.geometry.Image(view), o3d.geometry.Image(depth), convert_rgb_to_intensity=False, depth_scale=1)\n",
    "\n",
    "    pcd = o3d.geometry.PointCloud.create_from_depth_image(o3d.geometry.Image(depth), intrinsic, flip(extrinsic), depth_scale=1)\n",
    "    \n",
    "    pcd.remove_non_finite_points()\n",
    "    # render([pcd])\n",
    "\n",
    "    dists = original_pcd.compute_point_cloud_distance(pcd)\n",
    "    dists = np.asarray(dists)\n",
    "    ind = np.where(dists < 0.005)[0]\n",
    "    new_pcd = original_pcd.select_by_index(ind)\n",
    "    valid_pcds.append(new_pcd)\n",
    "    \n",
    "\n",
    "valid_pcd = reduce(lambda x,y:x+y, valid_pcds)\n",
    "\n",
    "valid_pcd.remove_duplicated_points()\n",
    "render([valid_pcd])\n",
    "print(valid_pcd.points)\n",
    "# assert(len(pcds) == args.num_views)\n",
    "\n",
    "# Pcd_merged = (reduce(lambda x, y: x + y, pcds))"
   ]
  },
  {
   "cell_type": "code",
   "execution_count": 15,
   "metadata": {},
   "outputs": [],
   "source": [
    "# visualize the points that are labelled as unseen\n",
    "\n",
    "original_points = np.asarray(original_pcd.points)\n",
    "valid_points = np.asarray(valid_pcd.points)\n",
    "\n",
    "original_points_set = set([tuple(original_point) for original_point in original_points])\n",
    "valid_points_set = set([tuple(valid_point) for valid_point in valid_points])\n",
    "invalid_points = np.array([x for x in original_points_set - valid_points_set])\n",
    "invalid_pcd = o3d.geometry.PointCloud()\n",
    "invalid_pcd.points = o3d.utility.Vector3dVector(invalid_points)\n",
    "render([invalid_pcd])"
   ]
  }
 ],
 "metadata": {
  "kernelspec": {
   "display_name": "open3d",
   "language": "python",
   "name": "python3"
  },
  "language_info": {
   "codemirror_mode": {
    "name": "ipython",
    "version": 3
   },
   "file_extension": ".py",
   "mimetype": "text/x-python",
   "name": "python",
   "nbconvert_exporter": "python",
   "pygments_lexer": "ipython3",
   "version": "3.8.5"
  }
 },
 "nbformat": 4,
 "nbformat_minor": 2
}
