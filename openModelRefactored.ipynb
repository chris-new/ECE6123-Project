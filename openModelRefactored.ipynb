{
 "cells": [
  {
   "cell_type": "markdown",
   "metadata": {},
   "source": [
    "# Overview\n",
    "This Jupyter Notebook serves as our prototype of projection and reprojection functions. Codes in it should be executed in a specific order and conditions with a cooperation of our 2D segmentation codes. Basically, this notebook will load a model, take 4 rgbd views for it and export them to images to be passed into the 2D segmentation model. Then, after the 2D segmentation finishes, we read the segmentation masks and reproject them back into 3D to form a point cloud."
   ]
  },
  {
   "cell_type": "code",
   "execution_count": 80,
   "metadata": {},
   "outputs": [],
   "source": [
    "import numpy as np \n",
    "import os\n",
    "import open3d as o3d\n",
    "import matplotlib.pyplot as plt\n",
    "from tqdm import tqdm\n",
    "from PIL import Image\n",
    "import time\n",
    "from scipy.spatial import cKDTree"
   ]
  },
  {
   "cell_type": "markdown",
   "metadata": {},
   "source": [
    "## Function Definition\n",
    "Here we have some function definition and packaging to use with Open3D."
   ]
  },
  {
   "cell_type": "code",
   "execution_count": 2,
   "metadata": {},
   "outputs": [],
   "source": [
    "def read_mesh(filename:str):\n",
    "    #pcd = o3d.io.read_triangle_mesh(filename, True)\n",
    "    pcd = o3d.io.read_triangle_model(filename, True)\n",
    "    return pcd\n",
    "def read_point_cloud(filename:str):\n",
    "    pcd = o3d.io.read_point_cloud(filename)\n",
    "    return pcd"
   ]
  },
  {
   "cell_type": "code",
   "execution_count": 3,
   "metadata": {},
   "outputs": [],
   "source": [
    "def render(geometries):\n",
    "    o3d.visualization.draw_geometries(geometries)"
   ]
  },
  {
   "cell_type": "code",
   "execution_count": 4,
   "metadata": {},
   "outputs": [],
   "source": [
    "# side effect: will set renderer_pc's extrinsic camera\n",
    "def get_view(renderer_pc, intrinsic, model, center, eye, up=[0,1,0], extrinsic=None, img_width=400, img_height=500):\n",
    "\n",
    "\n",
    "    # grey = o3d.visualization.rendering.MaterialRecord()\n",
    "    # grey.base_color = [0.7, 0.7, 0.7, 1.0]\n",
    "    # grey.shader = \"defaultLit\"\n",
    "    \n",
    "    material = o3d.visualization.rendering.MaterialRecord()\n",
    "    # texture = np.asarray(model.colors).copy()\n",
    "    # texture = texture.astype(np.float32)\n",
    "    # texture = o3d.geometry.Image(texture)\n",
    "    # material.albedo_img = texture\n",
    "    material.aspect_ratio = 1.0\n",
    "    material.shader = \"defaultLit\"\n",
    "\n",
    "\n",
    "\n",
    "    # renderer_pc.scene.scene.set_sun_light([-1, -1, -1], [1.0, 1.0, 1.0], 100000)\n",
    "    renderer_pc.scene.set_lighting(renderer_pc.scene.LightingProfile.NO_SHADOWS, (0, 0, 0))\n",
    "    renderer_pc.scene.scene.enable_sun_light(True)\n",
    "\n",
    "    renderer_pc.scene.add_geometry(\"model\", model, material)\n",
    "    \n",
    "    # # just for reference \n",
    "    # axis = o3d.geometry.TriangleMesh.create_coordinate_frame(size=1.0, origin=([0., 0., 0.]))\n",
    "    # renderer_pc.scene.add_geometry(\"axis\", axis, material)\n",
    "\n",
    "    \n",
    "    # for triangle meshes\n",
    "    # renderer_pc.scene.add_model(\"model\", model)\n",
    "\n",
    "    # Optionally set the camera field of view (to zoom in a bit)\n",
    "    vertical_field_of_view = 30  # between 5 and 90 degrees\n",
    "    aspect_ratio = img_width / img_height  # azimuth over elevation\n",
    "    near_plane = 0.05\n",
    "    far_plane = 50.0\n",
    "    fov_type = o3d.visualization.rendering.Camera.FovType.Vertical\n",
    "    # renderer_pc.scene.camera.set_projection(vertical_field_of_view, aspect_ratio, near_plane, far_plane, fov_type)\n",
    "    \n",
    "    renderer_pc.scene.camera.set_projection(intrinsic.intrinsic_matrix, near_plane, far_plane, img_width, img_height)\n",
    "\n",
    "    # Look at the origin from the front (along the -Z direction, into the screen), with Y as Up.\n",
    "    # camera orientation\n",
    "    # extrinsic = lookat(np.asarray(center), np.asarray(eye), np.asarray(up))\n",
    "    renderer_pc.scene.camera.look_at(center, eye, up)\n",
    "    if extrinsic is not None:\n",
    "        renderer_pc.setup_camera(intrinsic, extrinsic)\n",
    "    # renderer_pc.setup_camera(intrinsic, extrinsic)\n",
    "\n",
    "    depth_image = np.asarray(renderer_pc.render_to_depth_image(True) )\n",
    "    image = np.asarray(renderer_pc.render_to_image())\n",
    "\n",
    "\n",
    "    # plt.imshow(depth_image)\n",
    "    renderer_pc.scene.remove_geometry(\"model\")\n",
    "    # renderer_pc.scene.remove_geometry(\"axis\")\n",
    "    return (image, depth_image, renderer_pc.scene.camera.get_view_matrix())"
   ]
  },
  {
   "cell_type": "code",
   "execution_count": 5,
   "metadata": {},
   "outputs": [],
   "source": [
    "def lookat(center, eye, up):\n",
    "    f = (eye - center)\n",
    "    f /= np.linalg.norm(f)\n",
    "    \n",
    "    r = np.cross(up, f)\n",
    "    r /= np.linalg.norm(r)\n",
    "    \n",
    "    u = np.cross(f, r)\n",
    "    u /= np.linalg.norm(u)\n",
    "\n",
    "    view_matrix = np.eye(4)\n",
    "    view_matrix[:3, :3] = np.column_stack((r, u, -f))\n",
    "    view_matrix[:3, 3] = -np.dot(np.column_stack((r, u, -f)), eye)\n",
    "    \n",
    "    return view_matrix"
   ]
  },
  {
   "cell_type": "code",
   "execution_count": 6,
   "metadata": {},
   "outputs": [],
   "source": [
    "def flip(matrix):\n",
    "    result = np.copy(matrix)\n",
    "    result[1:3,:] = -1 * result[1:3,:]\n",
    "    return result"
   ]
  },
  {
   "cell_type": "code",
   "execution_count": 7,
   "metadata": {},
   "outputs": [],
   "source": [
    "def rgbd_to_pointcloud(rgbd, intrinsic, extrinsic_camera):\n",
    "    # extrinsic_camera = np.array(extrinsic_camera)\n",
    "    # extrinsic_camera = np.linalg.inv(extrinsic_camera)\n",
    "    pcd =  o3d.geometry.PointCloud.create_from_rgbd_image(rgbd, intrinsic, flip(extrinsic_camera))\n",
    "    # Flip it, otherwise the pointcloud will be upside down\n",
    "    #pcd.transform([[1, 0, 0, 0], [0, 1, 0, 0], [0, 0, 1, 0], [0, 0, 0, 1]])\n",
    "    return pcd\n",
    "def downsample_rescale(pcd, voxel_size=0.00001, scale=10000):\n",
    "    downsampled_pc = pcd.voxel_down_sample(voxel_size)\n",
    "    # use mean as the center for now\n",
    "    a1 = np.asarray(downsampled_pc.points)\n",
    "    scaled_downsampled_pc = downsampled_pc.scale(scale, a1.mean(0))\n",
    "    return scaled_downsampled_pc"
   ]
  },
  {
   "cell_type": "code",
   "execution_count": 8,
   "metadata": {},
   "outputs": [],
   "source": [
    "def downsample(pcd, voxel_size=0.00001):\n",
    "    downsampled_pc = pcd.voxel_down_sample(voxel_size)\n",
    "    return downsampled_pc"
   ]
  },
  {
   "cell_type": "code",
   "execution_count": 9,
   "metadata": {},
   "outputs": [],
   "source": [
    "def read_segmentation(file_name, depth):\n",
    "    # for read npy files\n",
    "    rgb = np.load(file_name).astype(np.uint8)\n",
    "    rgb = o3d.geometry.Image(rgb)\n",
    "    ## for read image files\n",
    "    #rgb = o3d.io.read_image(file_name)\n",
    "    rgbd_image = o3d.geometry.RGBDImage.create_from_color_and_depth(\n",
    "        rgb, o3d.geometry.Image(depth), convert_rgb_to_intensity=False, depth_scale=1)\n",
    "    return rgbd_image"
   ]
  },
  {
   "cell_type": "markdown",
   "metadata": {},
   "source": [
    "## Renderer Initialization and Model Loading\n",
    "\n",
    "In this part, we initialize a headless renderer of Open3d, define the resolution of images and the intrinsic camera matrix that will share among all cameras. Headless rendering has a different API with the Visualization(see reference: https://stackoverflow.com/questions/69696354/capture-depth-image-without-opening-visualizer-in-open3d). The resolution of images will affect the sampling resolution of the point cloud we create. A specific model is also loaded here. If you want to load another model, the parameter in read_mesh should be the path to your mesh."
   ]
  },
  {
   "cell_type": "code",
   "execution_count": 10,
   "metadata": {},
   "outputs": [
    {
     "name": "stdout",
     "output_type": "stream",
     "text": [
      "[Open3D INFO] EGL headless mode enabled.\n",
      "FEngine (64 bits) created at 0x7efda6503010 (threading is enabled)\n",
      "EGL(1.5)\n",
      "OpenGL(4.1)\n"
     ]
    }
   ],
   "source": [
    "img_width, img_height = (1920, 1080)\n",
    "renderer_pc = o3d.visualization.rendering.OffscreenRenderer(img_width, img_height)\n",
    "intrinsic =  o3d.camera.PinholeCameraIntrinsic(\n",
    "        o3d.camera.PinholeCameraIntrinsicParameters.Kinect2ColorCameraDefault)\n",
    "\n",
    "\n"
   ]
  },
  {
   "cell_type": "code",
   "execution_count": 137,
   "metadata": {},
   "outputs": [
    {
     "data": {
      "text/plain": [
       "PointCloud with 717689 points."
      ]
     },
     "execution_count": 137,
     "metadata": {},
     "output_type": "execute_result"
    }
   ],
   "source": [
    "# model = read_mesh(\"THuman2.0 Samples-20231208T170459Z-001/THuman2.0 Samples/0047/0047.obj\")\n",
    "\n",
    "# move the model to the center of the cooridinate system\n",
    "model = read_point_cloud('redandblack_vox10_1500.ply')\n",
    "points = np.asarray(model.points)\n",
    "points /= 900\n",
    "points -= points.mean(0)\n",
    "model.transform(np.array([[1,0,0,0], \n",
    "                        [0,1,0,0],\n",
    "                        [0,0,1,0],\n",
    "                        [0,0,0,1]]))\n",
    "\n",
    "\n",
    "\n",
    "\n"
   ]
  },
  {
   "cell_type": "markdown",
   "metadata": {},
   "source": [
    "## Projection\n",
    "The main part for projection. Given a center and an eye position, get_view will return the RGB image and the depth image from that view built by the lookAt function. Extrinsic matrice are also returned and will be used to recontruct point clouds. Here in the prototype, we only use four fixed views. Actually, from our experiment, side views are always not reliable and more views are not necessarily better due to the matching problem.\n",
    "\n",
    "The RGB images are saved as files and passed to the 2D segmentation pipeline."
   ]
  },
  {
   "cell_type": "code",
   "execution_count": 138,
   "metadata": {},
   "outputs": [
    {
     "data": {
      "text/plain": [
       "<matplotlib.image.AxesImage at 0x5efd54c62b20>"
      ]
     },
     "execution_count": 138,
     "metadata": {},
     "output_type": "execute_result"
    },
    {
     "data": {
      "image/png": "[encoded data removed]",
      "text/plain": [
       "<Figure size 640x480 with 1 Axes>"
      ]
     },
     "metadata": {},
     "output_type": "display_data"
    }
   ],
   "source": [
    "image, depth, extrinsic = get_view(renderer_pc, intrinsic, model, center=[0,0,0], eye=[0,0,-1.35], up=[0,1,0],\n",
    "                                   img_width=img_width, img_height=img_height)\n",
    "plt.imshow(depth)"
   ]
  },
  {
   "cell_type": "code",
   "execution_count": 139,
   "metadata": {},
   "outputs": [
    {
     "data": {
      "image/png": "[encoded data removed]",
      "text/plain": [
       "<Figure size 1500x800 with 8 Axes>"
      ]
     },
     "metadata": {},
     "output_type": "display_data"
    }
   ],
   "source": [
    "\n",
    "image1, depth1, extrinsic1 = get_view(renderer_pc, intrinsic, model, center=[0,0,0], eye=[0,0,-1.3], up=[0,1,0],\n",
    "                                   img_width=img_width, img_height=img_height)\n",
    "image2, depth2, extrinsic2 = get_view(renderer_pc, intrinsic, model, center=[0,0,0], eye=[0,0,1.3], up=[0,1,0],\n",
    "                                   img_width=img_width, img_height=img_height)\n",
    "image3, depth3, extrinsic3 = get_view(renderer_pc, intrinsic, model, center=[0,0,0], eye=[1.3,0,0], up=[0,1,0],\n",
    "                                   img_width=img_width, img_height=img_height)\n",
    "image4, depth4, extrinsic4 = get_view(renderer_pc, intrinsic, model, center=[0,0,0], eye=[-1.3,0,0], up=[0,1,0],\n",
    "                                   img_width=img_width, img_height=img_height)\n",
    "\n",
    "\n",
    "rgbd_image1 = o3d.geometry.RGBDImage.create_from_color_and_depth(\n",
    "    o3d.geometry.Image(image1), o3d.geometry.Image(depth1), convert_rgb_to_intensity=False, depth_scale=1)\n",
    "rgbd_image2 = o3d.geometry.RGBDImage.create_from_color_and_depth(\n",
    "    o3d.geometry.Image(image2), o3d.geometry.Image(depth2), convert_rgb_to_intensity=False, depth_scale=1)\n",
    "rgbd_image3 = o3d.geometry.RGBDImage.create_from_color_and_depth(\n",
    "    o3d.geometry.Image(image3), o3d.geometry.Image(depth3), convert_rgb_to_intensity=False, depth_scale=1)\n",
    "rgbd_image4 = o3d.geometry.RGBDImage.create_from_color_and_depth(\n",
    "    o3d.geometry.Image(image4), o3d.geometry.Image(depth4), convert_rgb_to_intensity=False, depth_scale=1)\n",
    "\n",
    "plt.figure(figsize=(15, 8))\n",
    "plt.subplot(4, 2, 1)\n",
    "plt.imshow(rgbd_image1.color)\n",
    "plt.subplot(4, 2, 2)\n",
    "plt.imshow(rgbd_image1.depth)\n",
    "plt.subplot(4, 2, 3)\n",
    "plt.imshow(rgbd_image2.color)\n",
    "plt.subplot(4, 2, 4)\n",
    "plt.imshow(rgbd_image2.depth)\n",
    "plt.subplot(4, 2, 5)\n",
    "plt.imshow(rgbd_image3.color)\n",
    "plt.subplot(4, 2, 6)\n",
    "plt.imshow(rgbd_image3.depth)\n",
    "plt.subplot(4, 2, 7)\n",
    "plt.imshow(rgbd_image4.color)\n",
    "plt.subplot(4, 2, 8)\n",
    "plt.imshow(rgbd_image4.depth)\n",
    "plt.show()\n",
    "\n"
   ]
  },
  {
   "cell_type": "code",
   "execution_count": 100,
   "metadata": {},
   "outputs": [],
   "source": [
    "id = \"longdress\"\n",
    "plt.imsave(f\"{id}_image1.png\", image1)\n",
    "plt.imsave(f\"{id}_image2.png\", image2)\n",
    "plt.imsave(f\"{id}_image3.png\", image3)\n",
    "plt.imsave(f\"{id}_image4.png\", image4)\n",
    "\n"
   ]
  },
  {
   "cell_type": "markdown",
   "metadata": {},
   "source": [
    "## Reconstruction and Merging\n",
    "\n",
    "In this part, we read segmentation masks from the output of the 2D segmentation pipeline. Instead of files, numpy arrays are prefered because the quantization of image file formats will break labels. Then, point clouds will be reconstruct for each of the views and merged into the final result. The render function will open a new window for visualization."
   ]
  },
  {
   "cell_type": "code",
   "execution_count": null,
   "metadata": {},
   "outputs": [],
   "source": [
    "# rgbd_image_seg1 = read_segmentation(f\"/home/demoy/3dProjection/0047_image1_segmask.npy\", depth1)\n",
    "# rgbd_image_seg2 = read_segmentation(f\"/home/demoy/3dProjection/0047_image2_segmask.npy\", depth2)\n",
    "# rgbd_image_seg3 = read_segmentation(f\"/home/demoy/3dProjection/0047_image3_segmask.npy\", depth3)\n",
    "# rgbd_image_seg4 = read_segmentation(f\"/home/demoy/3dProjection/0047_image4_segmask.npy\", depth4)"
   ]
  },
  {
   "cell_type": "code",
   "execution_count": null,
   "metadata": {},
   "outputs": [],
   "source": []
  },
  {
   "cell_type": "code",
   "execution_count": 15,
   "metadata": {},
   "outputs": [],
   "source": [
    "# rgbd_image_seg1 = read_segmentation(f\"/home/demoy/3dProjection/pure_seg_{id}_image1.npy\", depth1)\n",
    "# rgbd_image_seg2 = read_segmentation(f\"/home/demoy/3dProjection/pure_seg_{id}_image2.npy\", depth2)\n",
    "# rgbd_image_seg3 = read_segmentation(f\"/home/demoy/3dProjection/pure_seg_{id}_image3.npy\", depth3)\n",
    "# rgbd_image_seg4 = read_segmentation(f\"/home/demoy/3dProjection/pure_seg_{id}_image4.npy\", depth4)"
   ]
  },
  {
   "cell_type": "code",
   "execution_count": 140,
   "metadata": {},
   "outputs": [],
   "source": [
    "id = 'redandblack'\n",
    "# get the palette from the atr codes\n",
    "hair = np.array([64, 0, 0])\n",
    "dress = np.array([192, 0, 0])\n",
    "\n",
    "for i in range(1,5):\n",
    "    ### load segment result from cdcl###\n",
    "    seg_mask_cdcl = np.load(f\"/home/demoy/3dProjection/pure_seg_{id}_image{i}.npy\").astype(np.uint8)\n",
    "    seg_mask_atr = np.load(f\"/home/demoy/3dProjection/0047_image{i}_segmask.npy\").astype(np.uint8)\n",
    "    \n",
    "    comparison = seg_mask_atr == hair\n",
    "    hair_matches = np.all(comparison, axis=-1)\n",
    "    seg_mask_cdcl[hair_matches] = hair\n",
    "\n",
    "    comparison = seg_mask_atr == dress\n",
    "    dress_matches = np.all(comparison, axis=-1)\n",
    "    seg_mask_cdcl[dress_matches] = dress\n",
    "    np.save(f\"{id}_image{i}_cdcl_atr_merged_segmask\", seg_mask_cdcl)"
   ]
  },
  {
   "cell_type": "code",
   "execution_count": 125,
   "metadata": {},
   "outputs": [],
   "source": [
    "id = 'longdress'\n",
    "# get the palette from the atr codes\n",
    "hair = np.array([64, 0, 0])\n",
    "dress = np.array([192, 0, 0])\n",
    "\n",
    "for i in range(1,5):\n",
    "    ### load segment result from cdcl###\n",
    "    seg_mask_cdcl = np.load(f\"/home/demoy/3dProjection/{id}_image{i}_cdcl_segmask.npy\").astype(np.uint8)\n",
    "    seg_mask_atr = np.load(f\"/home/demoy/3dProjection/{id}_image{i}_atr_segmask.npy\").astype(np.uint8)\n",
    "    \n",
    "    comparison = seg_mask_atr == hair\n",
    "    hair_matches = np.all(comparison, axis=-1)\n",
    "    seg_mask_cdcl[hair_matches] = hair\n",
    "\n",
    "    comparison = seg_mask_atr == dress\n",
    "    dress_matches = np.all(comparison, axis=-1)\n",
    "    seg_mask_cdcl[dress_matches] = dress\n",
    "    np.save(f\"{id}_image{i}_cdcl_atr_merged_segmask\", seg_mask_cdcl)"
   ]
  },
  {
   "cell_type": "code",
   "execution_count": 141,
   "metadata": {},
   "outputs": [],
   "source": [
    "rgbd_image_seg1 = read_segmentation(f\"/home/demoy/3dProjection/{id}_image1_cdcl_atr_merged_segmask.npy\", depth1)\n",
    "rgbd_image_seg2 = read_segmentation(f\"/home/demoy/3dProjection/{id}_image2_cdcl_atr_merged_segmask.npy\", depth2)\n",
    "rgbd_image_seg3 = read_segmentation(f\"/home/demoy/3dProjection/{id}_image3_cdcl_atr_merged_segmask.npy\", depth3)\n",
    "rgbd_image_seg4 = read_segmentation(f\"/home/demoy/3dProjection/{id}_image4_cdcl_atr_merged_segmask.npy\", depth4)"
   ]
  },
  {
   "cell_type": "code",
   "execution_count": null,
   "metadata": {},
   "outputs": [],
   "source": [
    "# rgbd_image_seg1 = read_segmentation(f\"/home/demoy/3dProjection/{id}_image1_cdcl_segmask.npy\", depth1)\n",
    "# rgbd_image_seg2 = read_segmentation(f\"/home/demoy/3dProjection/{id}_image2_cdcl_segmask.npy\", depth2)\n",
    "# rgbd_image_seg3 = read_segmentation(f\"/home/demoy/3dProjection/{id}_image3_cdcl_segmask.npy\", depth3)\n",
    "# rgbd_image_seg4 = read_segmentation(f\"/home/demoy/3dProjection/{id}_image4_cdcl_segmask.npy\", depth4)"
   ]
  },
  {
   "cell_type": "code",
   "execution_count": 142,
   "metadata": {},
   "outputs": [],
   "source": [
    "pcd1 = rgbd_to_pointcloud(rgbd_image_seg1, intrinsic, extrinsic1)\n",
    "pcd2 = rgbd_to_pointcloud(rgbd_image_seg2, intrinsic, extrinsic2)\n",
    "pcd3 = rgbd_to_pointcloud(rgbd_image_seg3, intrinsic, extrinsic3)\n",
    "pcd4 = rgbd_to_pointcloud(rgbd_image_seg4, intrinsic, extrinsic4)"
   ]
  },
  {
   "cell_type": "code",
   "execution_count": 143,
   "metadata": {},
   "outputs": [],
   "source": [
    "render([ pcd1, pcd3, pcd2, pcd4])"
   ]
  },
  {
   "cell_type": "code",
   "execution_count": 144,
   "metadata": {},
   "outputs": [],
   "source": [
    "def knn_for_all_conflict_points(Pcd):\n",
    "    K = 100\n",
    "\n",
    "    Pcd_points = np.asarray(Pcd.points)\n",
    "    Pcd_colors = np.asarray(Pcd.colors)\n",
    "    # knn for one point\n",
    "    def knn(location):\n",
    "        points = Pcd_points\n",
    "        distances = np.linalg.norm(points - location, ord=2, axis=1)\n",
    "        inds = np.argsort(distances)[:K]\n",
    "        labels = Pcd_colors[inds]\n",
    "        unique_labels, counts = np.unique(labels, axis=0, return_counts=True)\n",
    "        return unique_labels[np.argsort(counts)[-1]]\n",
    "    \n",
    "    uniques, counts = np.unique(Pcd_points, axis=0, return_counts=True)\n",
    "    duplicate_points = uniques[counts > 1]\n",
    "    all_inds = np.arange(0, len(Pcd_points))\n",
    "    print(\"Find {} duplicate points\".format(len(duplicate_points)))\n",
    "    for point in duplicate_points:\n",
    "        inds = all_inds[np.all(Pcd_points == point, axis=1)]\n",
    "        colors = Pcd_colors[inds]\n",
    "        if len(np.unique(colors, axis=0)) == 1:\n",
    "            continue\n",
    "        else:\n",
    "            label = knn(point)\n",
    "        Pcd_colors[inds][:] = label\n",
    "    \n",
    "    pcd_ret = o3d.geometry.PointCloud()\n",
    "    pcd_ret.points = o3d.utility.Vector3dVector(Pcd_points)\n",
    "    pcd_ret.colors = o3d.utility.Vector3dVector(Pcd_colors)\n",
    "\n",
    "    return pcd_ret\n",
    "\n",
    "\n",
    "def knn(K, location, tree, colors):\n",
    "        _, inds = tree.query(location, k=K)\n",
    "        labels = colors[inds]\n",
    "        # distances = np.linalg.norm(points - location, ord=2, axis=1)\n",
    "        # inds = np.argsort(distances)[:K]\n",
    "        # labels = colors[inds]\n",
    "        unique_labels, counts = np.unique(labels, axis=0, return_counts=True)\n",
    "        return unique_labels[np.argsort(counts)[-1]]"
   ]
  },
  {
   "cell_type": "code",
   "execution_count": 145,
   "metadata": {},
   "outputs": [
    {
     "name": "stdout",
     "output_type": "stream",
     "text": [
      "Find 0 duplicate points\n"
     ]
    }
   ],
   "source": [
    "Pcd_merged = knn_for_all_conflict_points(pcd1+pcd2+pcd3+pcd4)"
   ]
  },
  {
   "cell_type": "code",
   "execution_count": 43,
   "metadata": {},
   "outputs": [
    {
     "data": {
      "text/plain": [
       "15"
      ]
     },
     "execution_count": 43,
     "metadata": {},
     "output_type": "execute_result"
    }
   ],
   "source": [
    "labels = np.asarray(Pcd_merged.colors)\n",
    "classes = np.unique(labels, axis=0)\n",
    "len(classes)"
   ]
  },
  {
   "cell_type": "code",
   "execution_count": 76,
   "metadata": {},
   "outputs": [],
   "source": [
    "render([ Pcd_merged])"
   ]
  },
  {
   "cell_type": "code",
   "execution_count": 146,
   "metadata": {},
   "outputs": [
    {
     "name": "stderr",
     "output_type": "stream",
     "text": [
      "Processing: 100%|██████████| 717689/717689 [01:33<00:00, 7642.92point/s]\n"
     ]
    }
   ],
   "source": [
    "seg_points = np.array(Pcd_merged.points)\n",
    "tree = cKDTree(seg_points)\n",
    "\n",
    "seg_colors = np.array(Pcd_merged.colors)\n",
    "points = np.asarray(model.points)\n",
    "colors = []\n",
    "for point in tqdm(points, desc=\"Processing\", unit=\"point\") :\n",
    "    color = knn(100, point, tree, seg_colors)\n",
    "    colors.append( color)\n",
    "    \n",
    "colors_stacked = np.vstack(colors)\n",
    "\n",
    "pcd_result = o3d.geometry.PointCloud()\n",
    "pcd_result.points = o3d.utility.Vector3dVector(points)\n",
    "pcd_result.colors = o3d.utility.Vector3dVector(colors_stacked)\n",
    "o3d.io.write_point_cloud(f'{id}_cdcl_atr_pcd_result.ply',pcd_result )\n",
    "render([ pcd_result])"
   ]
  },
  {
   "cell_type": "code",
   "execution_count": 152,
   "metadata": {},
   "outputs": [],
   "source": [
    "id = 'soldier'\n",
    "pcd = o3d.io.read_point_cloud(f'{id}_cdcl_atr_pcd_result.ply' )\n",
    "render([ pcd])"
   ]
  },
  {
   "cell_type": "code",
   "execution_count": 151,
   "metadata": {},
   "outputs": [],
   "source": [
    "id = 'redandblack'\n",
    "pcd = o3d.io.read_point_cloud(f'{id}_cdcl_atr_pcd_result.ply' )\n",
    "render([ pcd])"
   ]
  },
  {
   "cell_type": "code",
   "execution_count": 150,
   "metadata": {},
   "outputs": [],
   "source": [
    "id = 'longdress'\n",
    "pcd = o3d.io.read_point_cloud(f'{id}_cdcl_atr_pcd_result.ply' )\n",
    "render([ pcd])"
   ]
  },
  {
   "cell_type": "code",
   "execution_count": 22,
   "metadata": {},
   "outputs": [],
   "source": [
    "mesh  = o3d.io.read_triangle_mesh(\"THuman2.0 Samples-20231208T170459Z-001/THuman2.0 Samples/0047/0047.obj\", True)\n"
   ]
  },
  {
   "cell_type": "code",
   "execution_count": 59,
   "metadata": {},
   "outputs": [],
   "source": [
    "pcd_sampled = mesh.sample_points_uniformly(number_of_points=100000)\n",
    "render([ pcd_sampled])"
   ]
  },
  {
   "cell_type": "code",
   "execution_count": 210,
   "metadata": {},
   "outputs": [],
   "source": [
    "t = pcd1+pcd2+pcd3+pcd4\n",
    "points = np.asarray(t.points)\n",
    "colors = np.asarray(t.colors)"
   ]
  },
  {
   "cell_type": "code",
   "execution_count": 213,
   "metadata": {},
   "outputs": [
    {
     "data": {
      "text/plain": [
       "238998"
      ]
     },
     "execution_count": 213,
     "metadata": {},
     "output_type": "execute_result"
    }
   ],
   "source": [
    "points.size"
   ]
  },
  {
   "cell_type": "code",
   "execution_count": 197,
   "metadata": {},
   "outputs": [
    {
     "name": "stdout",
     "output_type": "stream",
     "text": [
      "(152118, 3)\n"
     ]
    }
   ],
   "source": [
    "# find replicate points\n",
    "unique_rows, indice = np.unique(points, axis=0, return_index=True)\n",
    "print(unique_rows.shape)"
   ]
  },
  {
   "cell_type": "code",
   "execution_count": 209,
   "metadata": {},
   "outputs": [
    {
     "data": {
      "text/plain": [
       "238998"
      ]
     },
     "execution_count": 209,
     "metadata": {},
     "output_type": "execute_result"
    }
   ],
   "source": [
    "np.array(pcd1.points).size + np.array(pcd2.points).size + np.array(pcd3.points).size + np.array(pcd4.points).size"
   ]
  },
  {
   "cell_type": "code",
   "execution_count": 100,
   "metadata": {},
   "outputs": [
    {
     "data": {
      "text/plain": [
       "array([0.8233335 , 1.59666675, 0.39999998])"
      ]
     },
     "execution_count": 100,
     "metadata": {},
     "output_type": "execute_result"
    }
   ],
   "source": [
    "pcd = o3d.io.read_point_cloud('label_faked_rescaled_300.ply')\n",
    "pcd.normals.clear()\n",
    "pcd.transform(np.array([[1,0,0,0], \n",
    "                        [0,-1,0,1.5],\n",
    "                        [0,0,1,0],\n",
    "                        [0,0,0,1]]))\n",
    "obox = pcd.get_axis_aligned_bounding_box()\n",
    "obox.color = (0.5,0.5,0.5)\n",
    "o3d.visualization.draw_geometries([obox, pcd, o3d.geometry.TriangleMesh.create_coordinate_frame(size=0.5, origin=[0., 0., 0.])])\n",
    "obox.max_bound - obox.min_bound\n"
   ]
  },
  {
   "cell_type": "code",
   "execution_count": 156,
   "metadata": {},
   "outputs": [
    {
     "name": "stdout",
     "output_type": "stream",
     "text": [
      "[1.71833336 0.09833339 1.70666665]\n"
     ]
    }
   ],
   "source": [
    "pcd = o3d.io.read_point_cloud('label_faked_rescaled_300_fliped.ply')\n",
    "pcd.normals.clear()\n",
    "\n",
    "pcd.transform(np.array([[1,0,0,0], \n",
    "                        [0,-1,0,0],\n",
    "                        [0,0,1,0],\n",
    "                        [0,0,0,1]]))\n",
    "obox = pcd.get_axis_aligned_bounding_box()\n",
    "obox.color = (0.5,0.5,0.5)\n",
    "o3d.visualization.draw_geometries([obox, pcd, o3d.geometry.TriangleMesh.create_coordinate_frame(size=0.5, origin=[0., 0., 0.])])\n",
    "obox.max_bound - obox.min_bound\n",
    "print(obox.min_bound + (obox.max_bound - obox.min_bound)/2)"
   ]
  },
  {
   "cell_type": "code",
   "execution_count": 126,
   "metadata": {},
   "outputs": [
    {
     "data": {
      "text/plain": [
       "array([0.8233335 , 0.39999998, 1.59666675])"
      ]
     },
     "execution_count": 126,
     "metadata": {},
     "output_type": "execute_result"
    }
   ],
   "source": [
    "pcd = o3d.io.read_point_cloud('predictions_mhbps_faked_labels_rescaled_300.ply')\n",
    "pcd.normals.clear()\n",
    "obox = pcd.get_axis_aligned_bounding_box()\n",
    "obox.color = (0.5,0.5,0.5)\n",
    "o3d.visualization.draw_geometries([obox, pcd, o3d.geometry.TriangleMesh.create_coordinate_frame(size=0.5, origin=[0., 0., 0.])])\n",
    "obox.max_bound - obox.min_bound"
   ]
  },
  {
   "cell_type": "code",
   "execution_count": 127,
   "metadata": {},
   "outputs": [
    {
     "data": {
      "text/plain": [
       "array([7.08228779, 4.920964  , 6.88521183])"
      ]
     },
     "execution_count": 127,
     "metadata": {},
     "output_type": "execute_result"
    }
   ],
   "source": [
    "pcd = o3d.io.read_point_cloud('frame_01141.ply')\n",
    "pcd.normals.clear()\n",
    "obox = pcd.get_axis_aligned_bounding_box()\n",
    "obox.color = (0.5,0.5,0.5)\n",
    "o3d.visualization.draw_geometries([obox, pcd, o3d.geometry.TriangleMesh.create_coordinate_frame(size=0.5, origin=[0., 0., 0.])])\n",
    "obox.max_bound - obox.min_bound"
   ]
  },
  {
   "cell_type": "code",
   "execution_count": 161,
   "metadata": {},
   "outputs": [
    {
     "data": {
      "text/plain": [
       "array([7.08228779, 6.88521194, 4.920964  ])"
      ]
     },
     "execution_count": 161,
     "metadata": {},
     "output_type": "execute_result"
    }
   ],
   "source": [
    "pcd = o3d.io.read_point_cloud('predictions_mhbps_faked_labels_original_data.ply')\n",
    "pcd.normals.clear()\n",
    "obox = pcd.get_axis_aligned_bounding_box()\n",
    "obox.color = (0.5,0.5,0.5)\n",
    "o3d.visualization.draw_geometries([obox, pcd, o3d.geometry.TriangleMesh.create_coordinate_frame(size=0.5, origin=[0., 0., 0.])])\n",
    "obox.max_bound - obox.min_bound"
   ]
  },
  {
   "cell_type": "code",
   "execution_count": 162,
   "metadata": {},
   "outputs": [
    {
     "data": {
      "text/plain": [
       "array([0.8233335 , 0.39999998, 1.59666675])"
      ]
     },
     "execution_count": 162,
     "metadata": {},
     "output_type": "execute_result"
    }
   ],
   "source": [
    "pcd = o3d.io.read_point_cloud('predictions_mhbps_faked_labels_rescaled_300_fliped.ply')\n",
    "pcd.normals.clear()\n",
    "obox = pcd.get_axis_aligned_bounding_box()\n",
    "obox.color = (0.5,0.5,0.5)\n",
    "o3d.visualization.draw_geometries([obox, pcd, o3d.geometry.TriangleMesh.create_coordinate_frame(size=0.5, origin=[0., 0., 0.])])\n",
    "obox.max_bound - obox.min_bound"
   ]
  },
  {
   "cell_type": "code",
   "execution_count": 17,
   "metadata": {},
   "outputs": [
    {
     "data": {
      "text/plain": [
       "array([ 0.01100425, -0.06160254, -0.01772021])"
      ]
     },
     "execution_count": 17,
     "metadata": {},
     "output_type": "execute_result"
    }
   ],
   "source": [
    "pcd = o3d.io.read_point_cloud('redandblack_vox10_1500.ply')\n",
    "points = np.asarray(pcd.points) \n",
    "points /= 1100\n",
    "pcd.points = o3d.utility.Vector3dVector(points)\n",
    "pcd.transform(np.array([[1,0,0,0], \n",
    "                        [0,1,0,0],\n",
    "                        [0,0,1,0],\n",
    "                        [0,0,0,1]]))\n",
    "\n",
    "points-= points.mean(0)\n",
    "obox = pcd.get_axis_aligned_bounding_box()\n",
    "obox.color = (0.5,0.5,0.5)\n",
    "o3d.visualization.draw_geometries([obox, pcd, o3d.geometry.TriangleMesh.create_coordinate_frame(size=0.5, origin=[0., 0., 0.])])\n",
    "obox.max_bound - obox.min_bound\n",
    "center = obox.min_bound + (obox.max_bound-obox.min_bound)/2\n",
    "center"
   ]
  },
  {
   "cell_type": "code",
   "execution_count": 148,
   "metadata": {},
   "outputs": [
    {
     "data": {
      "text/plain": [
       "array([0.71166667, 1.59      , 0.86833333])"
      ]
     },
     "execution_count": 148,
     "metadata": {},
     "output_type": "execute_result"
    }
   ],
   "source": [
    "pcd = o3d.io.read_point_cloud('soldier_vox10_0700.ply')\n",
    "points = np.asarray(pcd.points) \n",
    "points /= 600\n",
    "pcd.points = o3d.utility.Vector3dVector(points)\n",
    "pcd.transform(np.array([[1,0,0,2], \n",
    "                        [0,-1,0,1],\n",
    "                        [0,0,1,2],\n",
    "                        [0,0,0,1]]))\n",
    "obox = pcd.get_axis_aligned_bounding_box()\n",
    "obox.color = (0.5,0.5,0.5)\n",
    "o3d.visualization.draw_geometries([obox, pcd, o3d.geometry.TriangleMesh.create_coordinate_frame(size=0.5, origin=[0., 0., 0.])])\n",
    "obox.max_bound - obox.min_bound"
   ]
  },
  {
   "cell_type": "code",
   "execution_count": 113,
   "metadata": {},
   "outputs": [
    {
     "data": {
      "text/plain": [
       "array([0.59767795, 1.70453405, 0.52056098])"
      ]
     },
     "execution_count": 113,
     "metadata": {},
     "output_type": "execute_result"
    }
   ],
   "source": [
    "plydata = PlyData.read('frame_01141.ply')\n",
    "data = pd.DataFrame(plydata.elements[0].data)\n",
    "data_np = np.array(data)\n",
    "data_np_instance = data_np[data_np[:,6] == 2]\n",
    "instance_pcd = o3d.geometry.PointCloud()\n",
    "instance_pcd.points =  o3d.utility.Vector3dVector(data_np_instance[:,:3])\n",
    "# open3d colors are normalized within (1,1,1)\n",
    "instance_pcd.colors = o3d.utility.Vector3dVector(data_np_instance[:,3:6] / 255)\n",
    "obox = instance_pcd.get_axis_aligned_bounding_box()\n",
    "obox.color = (0.5,0.5,0.5)\n",
    "o3d.visualization.draw_geometries([obox, instance_pcd, o3d.geometry.TriangleMesh.create_coordinate_frame(size=0.5, origin=[0., 0., 0.])])\n",
    "obox.max_bound - obox.min_bound"
   ]
  },
  {
   "cell_type": "code",
   "execution_count": 53,
   "metadata": {},
   "outputs": [
    {
     "data": {
      "text/plain": [
       "array([0.61749995, 0.29999995, 1.19749999])"
      ]
     },
     "execution_count": 53,
     "metadata": {},
     "output_type": "execute_result"
    }
   ],
   "source": []
  },
  {
   "cell_type": "code",
   "execution_count": 149,
   "metadata": {},
   "outputs": [
    {
     "data": {
      "text/plain": [
       "(1085936, 6)"
      ]
     },
     "execution_count": 149,
     "metadata": {},
     "output_type": "execute_result"
    }
   ],
   "source": [
    "from plyfile import PlyData, PlyElement\n",
    "import pandas as pd\n",
    "# Read the PLY file\n",
    "plydata = PlyData.read('soldier_vox10_0700.ply')\n",
    "\n",
    "data = pd.DataFrame(plydata.elements[0].data)\n",
    "data.shape"
   ]
  },
  {
   "cell_type": "code",
   "execution_count": 93,
   "metadata": {},
   "outputs": [
    {
     "data": {
      "text/plain": [
       "memmap([(-0.06874441, -1.426023 , 2.4334786, 253, 253, 253, 0, 0),\n",
       "        (-0.05799608, -1.4115216, 2.4088523, 253, 253, 253, 0, 0),\n",
       "        (-0.05271588, -1.4052216, 2.3981469, 253, 253, 253, 0, 0), ...,\n",
       "        ( 0.10081428,  1.0194368, 1.8188342,  67,  75,  96, 0, 0),\n",
       "        ( 0.10492621,  1.020055 , 1.8197817,  67,  75,  96, 0, 0),\n",
       "        ( 0.10933863,  1.022814 , 1.8245274,  64,  75,  95, 0, 0)],\n",
       "       dtype=[('x', '<f4'), ('y', '<f4'), ('z', '<f4'), ('red', 'u1'), ('green', 'u1'), ('blue', 'u1'), ('inst_label', 'u1'), ('label', 'u1')])"
      ]
     },
     "execution_count": 93,
     "metadata": {},
     "output_type": "execute_result"
    }
   ],
   "source": [
    "plydata.elements[0].data"
   ]
  },
  {
   "cell_type": "markdown",
   "metadata": {},
   "source": [
    "Add faked inst_label and label property to a point cloud"
   ]
  },
  {
   "cell_type": "code",
   "execution_count": 163,
   "metadata": {},
   "outputs": [
    {
     "data": {
      "text/plain": [
       "(1085936, 6)"
      ]
     },
     "execution_count": 163,
     "metadata": {},
     "output_type": "execute_result"
    }
   ],
   "source": [
    "plydata2 = PlyData.read('soldier_vox10_0700.ply')\n",
    "data2 = pd.DataFrame(plydata2.elements[0].data)\n",
    "data2.shape\n"
   ]
  },
  {
   "cell_type": "code",
   "execution_count": 152,
   "metadata": {},
   "outputs": [],
   "source": [
    "numpy_data2 = np.array(data2)\n",
    "# numpy_data2[:,:3] /=300\n",
    "numpy_data2[:,:3] = np.asarray(pcd.points)"
   ]
  },
  {
   "cell_type": "code",
   "execution_count": 153,
   "metadata": {},
   "outputs": [],
   "source": [
    "\n",
    "inst_labels = np.ones((numpy_data2.shape[0],1)).astype(np.uint8)\n",
    "labels = np.full((numpy_data2.shape[0],1), 15).astype(np.uint8)\n"
   ]
  },
  {
   "cell_type": "code",
   "execution_count": 154,
   "metadata": {},
   "outputs": [
    {
     "data": {
      "text/plain": [
       "PlyElement('vertex', (PlyProperty('x', 'float'), PlyProperty('y', 'float'), PlyProperty('z', 'float'), PlyProperty('red', 'uchar'), PlyProperty('green', 'uchar'), PlyProperty('blue', 'uchar')), count=1085936, comments=[])"
      ]
     },
     "execution_count": 154,
     "metadata": {},
     "output_type": "execute_result"
    }
   ],
   "source": [
    "plydata2['vertex']"
   ]
  },
  {
   "cell_type": "code",
   "execution_count": 155,
   "metadata": {},
   "outputs": [],
   "source": [
    "stack_data = np.hstack((numpy_data2, inst_labels, labels))\n",
    "\n",
    "tuple_array = [tuple(row) for row in stack_data]\n",
    "tuple_array\n",
    "vertex = np.array(tuple_array, dtype=[('x','f4'), \n",
    "                                      ('y','f4'), \n",
    "                                      ('z','f4'),\n",
    "                                      ('red', 'u1'),\n",
    "                                      ('green', 'u1'),\n",
    "                                      ('blue', 'u1'),\n",
    "                                      ('inst_label', 'u1'),\n",
    "                                      ('label', 'u1')])"
   ]
  },
  {
   "cell_type": "code",
   "execution_count": 156,
   "metadata": {},
   "outputs": [
    {
     "data": {
      "text/plain": [
       "(2.2116666, 0.975, 2.0766666, 110, 101, 96, 1, 15)"
      ]
     },
     "execution_count": 156,
     "metadata": {},
     "output_type": "execute_result"
    }
   ],
   "source": [
    "vertex_element = PlyElement.describe(vertex, 'vertex' )\n",
    "vertex_element[0]"
   ]
  },
  {
   "cell_type": "code",
   "execution_count": 157,
   "metadata": {},
   "outputs": [],
   "source": [
    "PlyData([vertex_element]).write('label_faked_soldier_vox10_0700.ply')"
   ]
  },
  {
   "cell_type": "code",
   "execution_count": 158,
   "metadata": {},
   "outputs": [
    {
     "data": {
      "text/plain": [
       "array([0.71166658, 1.59000003, 0.86833334])"
      ]
     },
     "execution_count": 158,
     "metadata": {},
     "output_type": "execute_result"
    }
   ],
   "source": [
    "pcd = o3d.io.read_point_cloud('label_faked_soldier_vox10_0700.ply')\n",
    "obox = pcd.get_axis_aligned_bounding_box()\n",
    "obox.color = (0.5,0.5,0.5)\n",
    "o3d.visualization.draw_geometries([obox, pcd, o3d.geometry.TriangleMesh.create_coordinate_frame(size=0.5, origin=[0., 0., 0.])])\n",
    "obox.max_bound - obox.min_bound"
   ]
  },
  {
   "cell_type": "code",
   "execution_count": 165,
   "metadata": {},
   "outputs": [],
   "source": [
    "pcd = o3d.io.read_point_cloud('predictions_mhbps_faked_labels_redandblack_vox10_1500.ply')\n",
    "pcd.normals.clear()\n",
    "o3d.visualization.draw_geometries([pcd])"
   ]
  },
  {
   "cell_type": "markdown",
   "metadata": {},
   "source": [
    "Check whether faking data has problem: use one of their data, remove the labels and inst_labels and add the labels, to see whether it affects the prediction results"
   ]
  },
  {
   "cell_type": "code",
   "execution_count": 27,
   "metadata": {},
   "outputs": [
    {
     "data": {
      "text/plain": [
       "(178024, 8)"
      ]
     },
     "execution_count": 27,
     "metadata": {},
     "output_type": "execute_result"
    }
   ],
   "source": [
    "plydata = PlyData.read('frame_01141.ply')\n",
    "\n",
    "data = pd.DataFrame(plydata.elements[0].data)\n",
    "data.shape"
   ]
  },
  {
   "cell_type": "code",
   "execution_count": 28,
   "metadata": {},
   "outputs": [
    {
     "data": {
      "text/plain": [
       "(178024, 6)"
      ]
     },
     "execution_count": 28,
     "metadata": {},
     "output_type": "execute_result"
    }
   ],
   "source": [
    "data = np.array(data)\n",
    "data_removed_labels = data[:,:6]\n",
    "data_removed_labels.shape"
   ]
  },
  {
   "cell_type": "code",
   "execution_count": 29,
   "metadata": {},
   "outputs": [],
   "source": [
    "inst_labels = np.ones((data.shape[0],1)).astype(np.uint8)\n",
    "labels = np.full((data.shape[0],1), 15).astype(np.uint8)"
   ]
  },
  {
   "cell_type": "code",
   "execution_count": 30,
   "metadata": {},
   "outputs": [],
   "source": [
    "stack_data = np.hstack((data_removed_labels, inst_labels, labels))\n",
    "\n",
    "tuple_array = [tuple(row) for row in stack_data]\n",
    "tuple_array\n",
    "vertex = np.array(tuple_array, dtype=[('x','f4'), \n",
    "                                      ('y','f4'), \n",
    "                                      ('z','f4'),\n",
    "                                      ('red', 'u1'),\n",
    "                                      ('green', 'u1'),\n",
    "                                      ('blue', 'u1'),\n",
    "                                      ('inst_label', 'u1'),\n",
    "                                      ('label', 'u1')])"
   ]
  },
  {
   "cell_type": "code",
   "execution_count": 32,
   "metadata": {},
   "outputs": [],
   "source": [
    "vertex_element = PlyElement.describe(vertex, 'vertex' )\n",
    "PlyData([vertex_element]).write('label_faked_2.ply')"
   ]
  },
  {
   "cell_type": "code",
   "execution_count": 39,
   "metadata": {},
   "outputs": [],
   "source": [
    "pd = o3d.io.read_point_cloud('label_faked_2.ply')\n",
    "o3d.visualization.draw_geometries([pd])"
   ]
  }
 ],
 "metadata": {
  "kernelspec": {
   "display_name": "open3d",
   "language": "python",
   "name": "python3"
  },
  "language_info": {
   "codemirror_mode": {
    "name": "ipython",
    "version": 3
   },
   "file_extension": ".py",
   "mimetype": "text/x-python",
   "name": "python",
   "nbconvert_exporter": "python",
   "pygments_lexer": "ipython3",
   "version": "3.8.5"
  }
 },
 "nbformat": 4,
 "nbformat_minor": 2
}
