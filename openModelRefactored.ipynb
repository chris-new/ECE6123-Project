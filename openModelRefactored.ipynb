{
 "cells": [
  {
   "cell_type": "markdown",
   "metadata": {},
   "source": [
    "# Overview\n",
    "This Jupyter Notebook serves as our prototype of projection and reprojection functions. Codes in it should be executed in a specific order and conditions with a cooperation of our 2D segmentation codes. Basically, this notebook will load a model, take 4 rgbd views for it and export them to images to be passed into the 2D segmentation model. Then, after the 2D segmentation finishes, we read the segmentation masks and reproject them back into 3D to form a point cloud."
   ]
  },
  {
   "cell_type": "code",
   "execution_count": 1,
   "metadata": {},
   "outputs": [
    {
     "name": "stdout",
     "output_type": "stream",
     "text": [
      "Jupyter environment detected. Enabling Open3D WebVisualizer.\n",
      "[Open3D INFO] WebRTC GUI backend enabled.\n",
      "[Open3D INFO] WebRTCWindowSystem: HTTP handshake server disabled.\n",
      "[Open3D INFO] Resetting default logger to print to terminal.\n"
     ]
    }
   ],
   "source": [
    "import numpy as np \n",
    "import os\n",
    "import open3d as o3d\n",
    "import matplotlib.pyplot as plt\n",
    "import time"
   ]
  },
  {
   "cell_type": "markdown",
   "metadata": {},
   "source": [
    "## Function Definition\n",
    "Here we have some function definition and packaging to use with Open3D."
   ]
  },
  {
   "cell_type": "code",
   "execution_count": 2,
   "metadata": {},
   "outputs": [],
   "source": [
    "def read_mesh(filename:str):\n",
    "    #pcd = o3d.io.read_triangle_mesh(filename, True)\n",
    "    pcd = o3d.io.read_triangle_model(filename, True)\n",
    "    return pcd"
   ]
  },
  {
   "cell_type": "code",
   "execution_count": 3,
   "metadata": {},
   "outputs": [],
   "source": [
    "def render(geometries):\n",
    "    o3d.visualization.draw_geometries(geometries)"
   ]
  },
  {
   "cell_type": "code",
   "execution_count": 4,
   "metadata": {},
   "outputs": [],
   "source": [
    "# side effect: will set renderer_pc's extrinsic camera\n",
    "def get_view(renderer_pc, intrinsic, model, center, eye, extrinsic=None, img_width=400, img_height=500):\n",
    "\n",
    "\n",
    "    # grey = o3d.visualization.rendering.MaterialRecord()\n",
    "    # grey.base_color = [0.7, 0.7, 0.7, 1.0]\n",
    "    # grey.shader = \"defaultLit\"\n",
    "    \n",
    "    # material = o3d.visualization.rendering.MaterialRecord()\n",
    "    # texture = np.asarray(model.textures[0]).copy()\n",
    "    # texture = o3d.geometry.Image(texture)\n",
    "    # material.albedo_img = texture\n",
    "    # material.aspect_ratio = 1.0\n",
    "    # material.shader = \"defaultLit\"\n",
    "    \n",
    "    renderer_pc.scene.scene.set_sun_light([-1, -1, -1], [1.0, 1.0, 1.0], 100000)\n",
    "    renderer_pc.scene.scene.enable_sun_light(True)\n",
    "\n",
    "    #renderer_pc.scene.add_geometry(\"pcd\", model, material)\n",
    "    \n",
    "    renderer_pc.scene.add_model(\"model\", model)\n",
    "\n",
    "    # Optionally set the camera field of view (to zoom in a bit)\n",
    "    vertical_field_of_view = 15.0  # between 5 and 90 degrees\n",
    "    aspect_ratio = img_width / img_height  # azimuth over elevation\n",
    "    near_plane = 0.1\n",
    "    far_plane = 50.0\n",
    "    fov_type = o3d.visualization.rendering.Camera.FovType.Vertical\n",
    "    #renderer_pc.scene.camera.set_projection(vertical_field_of_view, aspect_ratio, near_plane, far_plane, fov_type)\n",
    "    renderer_pc.scene.camera.set_projection(intrinsic.intrinsic_matrix, near_plane, far_plane, img_width, img_height)\n",
    "\n",
    "    # Look at the origin from the front (along the -Z direction, into the screen), with Y as Up.\n",
    "    up = [0, 1, 0]  # camera orientation\n",
    "    # extrinsic = lookat(np.asarray(center), np.asarray(eye), np.asarray(up))\n",
    "    renderer_pc.scene.camera.look_at(center, eye, up)\n",
    "    if extrinsic is not None:\n",
    "        renderer_pc.setup_camera(intrinsic, extrinsic)\n",
    "    # renderer_pc.setup_camera(intrinsic, extrinsic)\n",
    "\n",
    "    depth_image = np.asarray(renderer_pc.render_to_depth_image(True) )\n",
    "    image = np.asarray(renderer_pc.render_to_image())\n",
    "\n",
    "\n",
    "    # plt.imshow(depth_image)\n",
    "    renderer_pc.scene.remove_geometry(\"model\")\n",
    "    return (image, depth_image, renderer_pc.scene.camera.get_view_matrix())"
   ]
  },
  {
   "cell_type": "code",
   "execution_count": 5,
   "metadata": {},
   "outputs": [],
   "source": [
    "def lookat(center, eye, up):\n",
    "    f = (eye - center)\n",
    "    f /= np.linalg.norm(f)\n",
    "    \n",
    "    r = np.cross(up, f)\n",
    "    r /= np.linalg.norm(r)\n",
    "    \n",
    "    u = np.cross(f, r)\n",
    "    u /= np.linalg.norm(u)\n",
    "\n",
    "    view_matrix = np.eye(4)\n",
    "    view_matrix[:3, :3] = np.column_stack((r, u, -f))\n",
    "    view_matrix[:3, 3] = -np.dot(np.column_stack((r, u, -f)), eye)\n",
    "    \n",
    "    return view_matrix"
   ]
  },
  {
   "cell_type": "code",
   "execution_count": null,
   "metadata": {},
   "outputs": [],
   "source": [
    "def flip(matrix):\n",
    "    result = np.copy(matrix)\n",
    "    result[1:3,:] = -1 * result[1:3,:]\n",
    "    return result"
   ]
  },
  {
   "cell_type": "code",
   "execution_count": 6,
   "metadata": {},
   "outputs": [],
   "source": [
    "def rgbd_to_pointcloud(rgbd, intrinsic, extrinsic_camera):\n",
    "    # extrinsic_camera = np.array(extrinsic_camera)\n",
    "    # extrinsic_camera = np.linalg.inv(extrinsic_camera)\n",
    "    pcd =  o3d.geometry.PointCloud.create_from_rgbd_image(rgbd, intrinsic, flip(extrinsic_camera))\n",
    "    # Flip it, otherwise the pointcloud will be upside down\n",
    "    #pcd.transform([[1, 0, 0, 0], [0, 1, 0, 0], [0, 0, 1, 0], [0, 0, 0, 1]])\n",
    "    return pcd\n",
    "def downsample_rescale(pcd, voxel_size=0.00001, scale=10000):\n",
    "    downsampled_pc = pcd.voxel_down_sample(voxel_size)\n",
    "    # use mean as the center for now\n",
    "    a1 = np.asarray(downsampled_pc.points)\n",
    "    scaled_downsampled_pc = downsampled_pc.scale(scale, a1.mean(0))\n",
    "    return scaled_downsampled_pc"
   ]
  },
  {
   "cell_type": "code",
   "execution_count": 7,
   "metadata": {},
   "outputs": [],
   "source": [
    "def downsample(pcd, voxel_size=0.00001):\n",
    "    downsampled_pc = pcd.voxel_down_sample(voxel_size)\n",
    "    return downsampled_pc"
   ]
  },
  {
   "cell_type": "code",
   "execution_count": 220,
   "metadata": {},
   "outputs": [],
   "source": [
    "def read_segmentation(file_name, depth):\n",
    "    # for read npy files\n",
    "    rgb = np.load(file_name).astype(np.uint8)\n",
    "    rgb = o3d.geometry.Image(rgb)\n",
    "    ## for read image files\n",
    "    #rgb = o3d.io.read_image(file_name)\n",
    "    rgbd_image = o3d.geometry.RGBDImage.create_from_color_and_depth(\n",
    "        rgb, o3d.geometry.Image(depth), convert_rgb_to_intensity=False, depth_scale=1)\n",
    "    return rgbd_image"
   ]
  },
  {
   "cell_type": "markdown",
   "metadata": {},
   "source": [
    "## Renderer Initialization and Model Loading\n",
    "\n",
    "In this part, we initialize a headless renderer of Open3d, define the resolution of images and the intrinsic camera matrix that will share among all cameras. Headless rendering has a different API with the Visualization(see reference: https://stackoverflow.com/questions/69696354/capture-depth-image-without-opening-visualizer-in-open3d). The resolution of images will affect the sampling resolution of the point cloud we create. A specific model is also loaded here. If you want to load another model, the parameter in read_mesh should be the path to your mesh."
   ]
  },
  {
   "cell_type": "code",
   "execution_count": 10,
   "metadata": {},
   "outputs": [
    {
     "name": "stdout",
     "output_type": "stream",
     "text": [
      "[Open3D INFO] EGL headless mode enabled.\n",
      "FEngine (64 bits) created at 0x7ff678983010 (threading is enabled)\n",
      "EGL(1.5)\n",
      "OpenGL(4.2)\n",
      "Reading model fileTHuman2.0 Samples-20231208T170459Z-001/THuman2.0 Samples/0274/0274.obj[========================================] 100%\n",
      "Reading model fileTHuman2.0 Samples-20231208T170459Z-001/THuman2.0 Samples/0274/0274.obj[========================================] 100%\n"
     ]
    }
   ],
   "source": [
    "img_width, img_height = (400, 500)\n",
    "renderer_pc = o3d.visualization.rendering.OffscreenRenderer(img_width, img_height)\n",
    "model = read_mesh(\"THuman2.0 Samples-20231208T170459Z-001/THuman2.0 Samples/0274/0274.obj\")\n",
    "intrinsic =  o3d.camera.PinholeCameraIntrinsic(\n",
    "        o3d.camera.PinholeCameraIntrinsicParameters.PrimeSenseDefault)\n",
    "\n",
    "\n"
   ]
  },
  {
   "cell_type": "code",
   "execution_count": 52,
   "metadata": {},
   "outputs": [
    {
     "name": "stdout",
     "output_type": "stream",
     "text": [
      "Reading model fileTHuman2.0 Samples-20231208T170459Z-001/THuman2.0 Samples/0047/0047.obj[========================================] 100%\n",
      "Reading model fileTHuman2.0 Samples-20231208T170459Z-001/THuman2.0 Samples/0047/0047.obj[========================================] 100%\n"
     ]
    }
   ],
   "source": [
    "model = read_mesh(\"THuman2.0 Samples-20231208T170459Z-001/THuman2.0 Samples/0047/0047.obj\")\n"
   ]
  },
  {
   "cell_type": "markdown",
   "metadata": {},
   "source": [
    "## Projection\n",
    "The main part for projection. Given a center and an eye position, get_view will return the RGB image and the depth image from that view built by the lookAt function. Extrinsic matrice are also returned and will be used to recontruct point clouds. Here in the prototype, we only use four fixed views. Actually, from our experiment, side views are always not reliable and more views are not necessarily better due to the matching problem.\n",
    "\n",
    "The RGB images are saved as files and passed to the 2D segmentation pipeline."
   ]
  },
  {
   "cell_type": "code",
   "execution_count": 53,
   "metadata": {},
   "outputs": [
    {
     "data": {
      "image/png": "[encoded data removed]",
      "text/plain": [
       "<Figure size 640x480 with 8 Axes>"
      ]
     },
     "metadata": {},
     "output_type": "display_data"
    }
   ],
   "source": [
    "image1, depth1, extrinsic1 = get_view(renderer_pc, intrinsic, model, center=[0.25,0,0], eye=[0, 0, 1.25])\n",
    "image2, depth2, extrinsic2 = get_view(renderer_pc, intrinsic, model, center=[-0.25,0,0], eye=[0.5, 0, -1.25])\n",
    "image3, depth3, extrinsic3 = get_view(renderer_pc, intrinsic, model, center=[-0.25,0,0], eye=[-0.5, 0, -1])\n",
    "image4, depth4, extrinsic4 = get_view(renderer_pc, intrinsic, model, center=[0.25,0,0], eye=[0.75, 0, 0.75])\n",
    "\n",
    "rgbd_image1 = o3d.geometry.RGBDImage.create_from_color_and_depth(\n",
    "    o3d.geometry.Image(image1), o3d.geometry.Image(depth1), convert_rgb_to_intensity=False, depth_scale=1)\n",
    "rgbd_image2 = o3d.geometry.RGBDImage.create_from_color_and_depth(\n",
    "    o3d.geometry.Image(image2), o3d.geometry.Image(depth2), convert_rgb_to_intensity=False, depth_scale=1)\n",
    "rgbd_image3 = o3d.geometry.RGBDImage.create_from_color_and_depth(\n",
    "    o3d.geometry.Image(image3), o3d.geometry.Image(depth3), convert_rgb_to_intensity=False, depth_scale=1)\n",
    "rgbd_image4 = o3d.geometry.RGBDImage.create_from_color_and_depth(\n",
    "    o3d.geometry.Image(image4), o3d.geometry.Image(depth4), convert_rgb_to_intensity=False, depth_scale=1)\n",
    "\n",
    "plt.subplot(4, 2, 1)\n",
    "plt.imshow(rgbd_image1.color)\n",
    "plt.subplot(4, 2, 2)\n",
    "plt.imshow(rgbd_image1.depth)\n",
    "plt.subplot(4, 2, 3)\n",
    "plt.imshow(rgbd_image2.color)\n",
    "plt.subplot(4, 2, 4)\n",
    "plt.imshow(rgbd_image2.depth)\n",
    "plt.subplot(4, 2, 5)\n",
    "plt.imshow(rgbd_image3.color)\n",
    "plt.subplot(4, 2, 6)\n",
    "plt.imshow(rgbd_image3.depth)\n",
    "plt.subplot(4, 2, 7)\n",
    "plt.imshow(rgbd_image4.color)\n",
    "plt.subplot(4, 2, 8)\n",
    "plt.imshow(rgbd_image4.depth)\n",
    "plt.show()"
   ]
  },
  {
   "cell_type": "code",
   "execution_count": 55,
   "metadata": {},
   "outputs": [],
   "source": [
    "plt.imsave(\"0047_image1.png\", image1)\n",
    "plt.imsave(\"0047_image2.png\", image2)\n",
    "plt.imsave(\"0047_image3.png\", image3)\n",
    "plt.imsave(\"0047_image4.png\", image4)\n",
    "\n"
   ]
  },
  {
   "cell_type": "code",
   "execution_count": 72,
   "metadata": {},
   "outputs": [
    {
     "data": {
      "image/png": "[encoded data removed]",
      "text/plain": [
       "<Figure size 640x480 with 1 Axes>"
      ]
     },
     "metadata": {},
     "output_type": "display_data"
    }
   ],
   "source": [
    "plt.axis(\"off\")\n",
    "plt.imshow(rgbd_image4.depth)\n",
    "plt.savefig(\"0047_depth4.jpg\")"
   ]
  },
  {
   "cell_type": "markdown",
   "metadata": {},
   "source": [
    "## Reconstruction and Merging\n",
    "\n",
    "In this part, we read segmentation masks from the output of the 2D segmentation pipeline. Instead of files, numpy arrays are prefered because the quantization of image file formats will break labels. Then, point clouds will be reconstruct for each of the views and merged into the final result. The render function will open a new window for visualization."
   ]
  },
  {
   "cell_type": "code",
   "execution_count": 216,
   "metadata": {},
   "outputs": [],
   "source": [
    "rgbd_image_seg1 = read_segmentation(\"/home/demoy/3dProjection/0047_image1_segmask.npy\", depth1)\n",
    "rgbd_image_seg2 = read_segmentation(\"/home/demoy/3dProjection/0047_image2_segmask.npy\", depth2)\n",
    "rgbd_image_seg3 = read_segmentation(\"/home/demoy/3dProjection/0047_image3_segmask.npy\", depth3)\n",
    "rgbd_image_seg4 = read_segmentation(\"/home/demoy/3dProjection/0047_image4_segmask.npy\", depth4)"
   ]
  },
  {
   "cell_type": "code",
   "execution_count": 217,
   "metadata": {},
   "outputs": [],
   "source": [
    "pcd1 = rgbd_to_pointcloud(rgbd_image_seg1, intrinsic, extrinsic1)\n",
    "pcd2 = rgbd_to_pointcloud(rgbd_image_seg2, intrinsic, extrinsic2)\n",
    "pcd3 = rgbd_to_pointcloud(rgbd_image_seg3, intrinsic, extrinsic3)\n",
    "pcd4 = rgbd_to_pointcloud(rgbd_image_seg4, intrinsic, extrinsic4)"
   ]
  },
  {
   "cell_type": "code",
   "execution_count": 219,
   "metadata": {},
   "outputs": [],
   "source": [
    "render([ pcd1, pcd3, pcd2, pcd4])"
   ]
  },
  {
   "cell_type": "code",
   "execution_count": 210,
   "metadata": {},
   "outputs": [],
   "source": [
    "t = pcd1+pcd2+pcd3+pcd4\n",
    "points = np.asarray(t.points)\n",
    "colors = np.asarray(t.colors)"
   ]
  },
  {
   "cell_type": "code",
   "execution_count": 213,
   "metadata": {},
   "outputs": [
    {
     "data": {
      "text/plain": [
       "238998"
      ]
     },
     "execution_count": 213,
     "metadata": {},
     "output_type": "execute_result"
    }
   ],
   "source": [
    "points.size"
   ]
  },
  {
   "cell_type": "code",
   "execution_count": 197,
   "metadata": {},
   "outputs": [
    {
     "name": "stdout",
     "output_type": "stream",
     "text": [
      "(152118, 3)\n"
     ]
    }
   ],
   "source": [
    "# find replicate points\n",
    "unique_rows, indice = np.unique(points, axis=0, return_index=True)\n",
    "print(unique_rows.shape)"
   ]
  },
  {
   "cell_type": "code",
   "execution_count": 209,
   "metadata": {},
   "outputs": [
    {
     "data": {
      "text/plain": [
       "238998"
      ]
     },
     "execution_count": 209,
     "metadata": {},
     "output_type": "execute_result"
    }
   ],
   "source": [
    "np.array(pcd1.points).size + np.array(pcd2.points).size + np.array(pcd3.points).size + np.array(pcd4.points).size"
   ]
  },
  {
   "cell_type": "code",
   "execution_count": null,
   "metadata": {},
   "outputs": [],
   "source": []
  }
 ],
 "metadata": {
  "kernelspec": {
   "display_name": "open3d",
   "language": "python",
   "name": "python3"
  },
  "language_info": {
   "codemirror_mode": {
    "name": "ipython",
    "version": 3
   },
   "file_extension": ".py",
   "mimetype": "text/x-python",
   "name": "python",
   "nbconvert_exporter": "python",
   "pygments_lexer": "ipython3",
   "version": "3.8.18"
  }
 },
 "nbformat": 4,
 "nbformat_minor": 2
}
